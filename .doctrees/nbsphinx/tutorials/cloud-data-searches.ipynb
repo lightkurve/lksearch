{
 "cells": [
  {
   "cell_type": "markdown",
   "id": "e0dbfed3-0284-4144-9c0c-4ec132aa66f8",
   "metadata": {},
   "source": [
    "# lksearch Configuration and working with Cloud Data\n",
    "lksearch has a `config` class and configuration file that can be used to configure the default behaviour of the package including how lksearch treats cloud data and where (or if) local files are cached. "
   ]
  },
  {
   "cell_type": "markdown",
   "id": "80410c2f-64ac-4aa9-9c0a-77d65a448f49",
   "metadata": {},
   "source": [
    "## lksearch File Download and Cache\n",
    "The `lksearch` file cache is a directory where files are downloaded to.  This directory also serves as a cache directory, and if a file matching the name of the file to be downloaded exists we treat this as a cached file and by default do not overwrite the current file on disk.  \n",
    "\n",
    "The default file download and cache directory is located at:\n",
    "`~/.lksearch/cache`\n",
    "\n",
    "This can be verified using the get_cache_dir convenience function in the config sub-module, e.g.:"
   ]
  },
  {
   "cell_type": "code",
   "execution_count": 1,
   "id": "24045f63-26b7-48dc-938e-f4e6eaf436ae",
   "metadata": {},
   "outputs": [
    {
     "data": {
      "text/plain": [
       "'/Users/tapritc2/.lksearch/cache'"
      ]
     },
     "execution_count": 1,
     "metadata": {},
     "output_type": "execute_result"
    }
   ],
   "source": [
    "from lksearch import config as lkconfig\n",
    "\n",
    "lkconfig.get_cache_dir()"
   ]
  },
  {
   "cell_type": "markdown",
   "id": "71100a2a-d8bc-4788-b5a2-316c21c765b1",
   "metadata": {},
   "source": [
    "### Clearing the Cache & Corrupted Files\n",
    "If you wish to delete an individual file that you downloaded (for example, if you are concerned that a previously downloaded file is corrupted), the easiest way to do that is using the `Local Path` information in the manifest returned by the `.download()` function."
   ]
  },
  {
   "cell_type": "code",
   "execution_count": 2,
   "id": "dd4060e3-bab0-406f-a76f-d4e4fe6f35ea",
   "metadata": {},
   "outputs": [
    {
     "data": {
      "text/html": [
       "<div>\n",
       "<style scoped>\n",
       "    .dataframe tbody tr th:only-of-type {\n",
       "        vertical-align: middle;\n",
       "    }\n",
       "\n",
       "    .dataframe tbody tr th {\n",
       "        vertical-align: top;\n",
       "    }\n",
       "\n",
       "    .dataframe thead th {\n",
       "        text-align: right;\n",
       "    }\n",
       "</style>\n",
       "<table border=\"1\" class=\"dataframe\">\n",
       "  <thead>\n",
       "    <tr style=\"text-align: right;\">\n",
       "      <th></th>\n",
       "      <th>Local Path</th>\n",
       "      <th>Status</th>\n",
       "      <th>Message</th>\n",
       "      <th>URL</th>\n",
       "    </tr>\n",
       "  </thead>\n",
       "  <tbody>\n",
       "    <tr>\n",
       "      <th>0</th>\n",
       "      <td>/Users/tapritc2/.lksearch/cache/mastDownload/H...</td>\n",
       "      <td>COMPLETE</td>\n",
       "      <td>None</td>\n",
       "      <td>None</td>\n",
       "    </tr>\n",
       "    <tr>\n",
       "      <th>1</th>\n",
       "      <td>/Users/tapritc2/.lksearch/cache/mastDownload/H...</td>\n",
       "      <td>COMPLETE</td>\n",
       "      <td>None</td>\n",
       "      <td>None</td>\n",
       "    </tr>\n",
       "    <tr>\n",
       "      <th>2</th>\n",
       "      <td>/Users/tapritc2/.lksearch/cache/mastDownload/H...</td>\n",
       "      <td>COMPLETE</td>\n",
       "      <td>None</td>\n",
       "      <td>None</td>\n",
       "    </tr>\n",
       "  </tbody>\n",
       "</table>\n",
       "</div>"
      ],
      "text/plain": [
       "                                          Local Path    Status Message   URL\n",
       "0  /Users/tapritc2/.lksearch/cache/mastDownload/H...  COMPLETE    None  None\n",
       "1  /Users/tapritc2/.lksearch/cache/mastDownload/H...  COMPLETE    None  None\n",
       "2  /Users/tapritc2/.lksearch/cache/mastDownload/H...  COMPLETE    None  None"
      ]
     },
     "execution_count": 2,
     "metadata": {},
     "output_type": "execute_result"
    }
   ],
   "source": [
    "import os\n",
    "from lksearch import K2Search\n",
    "\n",
    "##First lets download a few files\n",
    "K218 = K2Search(\"K2-18\").HLSPs.timeseries\n",
    "manifest = K218.download()\n",
    "manifest"
   ]
  },
  {
   "cell_type": "code",
   "execution_count": 3,
   "id": "6ce478f4-f0e4-4853-a2e4-b34a90d1c26d",
   "metadata": {},
   "outputs": [],
   "source": [
    "# The manifest returned by download() is a pandas DataFrame\n",
    "# We will access the first local path using iloc as so\n",
    "os.remove(manifest.iloc[0][\"Local Path\"])"
   ]
  },
  {
   "cell_type": "markdown",
   "id": "2de81d86-b2e2-4698-8522-7d3da13daff8",
   "metadata": {},
   "source": [
    "If you want to clear *everything* from your cache, you can use the `config.clearcache()` function to completely empty your cache of downloaded files. by default this will run in \"test\" mode and print what you will be deleting.  To confirm deletion, run with `test=False` optional parameter.  "
   ]
  },
  {
   "cell_type": "code",
   "execution_count": 4,
   "id": "bc7a176f-ae42-49fe-a0cd-ce3444ee61e7",
   "metadata": {},
   "outputs": [
    {
     "name": "stdout",
     "output_type": "stream",
     "text": [
      "Running in test mode, rerun with test=False to clear cache\n",
      "removing /Users/tapritc2/.lksearch/cache/mastDownload/TESS\n",
      "removing /Users/tapritc2/.lksearch/cache/mastDownload/K2\n",
      "removing /Users/tapritc2/.lksearch/cache/mastDownload/Kepler\n",
      "removing /Users/tapritc2/.lksearch/cache/mastDownload/TESSCut\n",
      "removing /Users/tapritc2/.lksearch/cache/mastDownload/HLSP\n"
     ]
    }
   ],
   "source": [
    "lkconfig.clearcache()"
   ]
  },
  {
   "cell_type": "markdown",
   "id": "0e5adafe-cbb4-4423-b5f0-164071077119",
   "metadata": {},
   "source": [
    "**Passing `test=False` will then fully delete the above directories** \n",
    "\n",
    "e.g. `lkconfig.clearcache(test=False)`"
   ]
  },
  {
   "cell_type": "markdown",
   "id": "04c761fe-a480-43aa-b4c7-e858322bec54",
   "metadata": {},
   "source": [
    "#### Caching and File Downloads\n",
    "By default, lksearch will use the `~astroquery.mast.Observations` built in caching functionality which includes a file-size check to verify the completeness of a download and static nature of a file.  This means that if a file is truncated mid-download, or gets updated on the MAST archive (rare but not unheard of), this will detect a mismatch and re-download the file.  This does, however, add some small overhead to file downloads and can add additional remote calls.  \n",
    "\n",
    "If this behaviour is undesired, the CHECK_CACHED_FILE_SIZES configuration parameter can be set to `False` - this will cause the download function to check for the presence of a local file  with the appropriate name/location of the desired download, and if it exists pass the local file location with a modified `Status` tag.  \n",
    "\n",
    "This will be lest robust but slightly faster and with potentially fewer remote calls.\n",
    "\n",
    "For example, with file size checking:"
   ]
  },
  {
   "cell_type": "code",
   "execution_count": 5,
   "id": "7941ff5f-f5c1-46e4-a0e2-1da55b540449",
   "metadata": {},
   "outputs": [
    {
     "data": {
      "text/html": [
       "<div>\n",
       "<style scoped>\n",
       "    .dataframe tbody tr th:only-of-type {\n",
       "        vertical-align: middle;\n",
       "    }\n",
       "\n",
       "    .dataframe tbody tr th {\n",
       "        vertical-align: top;\n",
       "    }\n",
       "\n",
       "    .dataframe thead th {\n",
       "        text-align: right;\n",
       "    }\n",
       "</style>\n",
       "<table border=\"1\" class=\"dataframe\">\n",
       "  <thead>\n",
       "    <tr style=\"text-align: right;\">\n",
       "      <th></th>\n",
       "      <th>Local Path</th>\n",
       "      <th>Status</th>\n",
       "      <th>Message</th>\n",
       "      <th>URL</th>\n",
       "    </tr>\n",
       "  </thead>\n",
       "  <tbody>\n",
       "    <tr>\n",
       "      <th>0</th>\n",
       "      <td>/Users/tapritc2/.lksearch/cache/mastDownload/H...</td>\n",
       "      <td>COMPLETE</td>\n",
       "      <td>None</td>\n",
       "      <td>None</td>\n",
       "    </tr>\n",
       "  </tbody>\n",
       "</table>\n",
       "</div>"
      ],
      "text/plain": [
       "                                          Local Path    Status Message   URL\n",
       "0  /Users/tapritc2/.lksearch/cache/mastDownload/H...  COMPLETE    None  None"
      ]
     },
     "execution_count": 5,
     "metadata": {},
     "output_type": "execute_result"
    }
   ],
   "source": [
    "from lksearch import conf\n",
    "\n",
    "conf.reload()\n",
    "conf.CHECK_CACHED_FILE_SIZES = True\n",
    "K218[0].download()"
   ]
  },
  {
   "cell_type": "markdown",
   "id": "609afad8-c3a2-478a-ac92-845635762f8f",
   "metadata": {},
   "source": [
    "And without file size checking:"
   ]
  },
  {
   "cell_type": "code",
   "execution_count": 6,
   "id": "f98f1ccf-de7b-413c-ab8b-43f70a26af46",
   "metadata": {},
   "outputs": [
    {
     "data": {
      "text/html": [
       "<div>\n",
       "<style scoped>\n",
       "    .dataframe tbody tr th:only-of-type {\n",
       "        vertical-align: middle;\n",
       "    }\n",
       "\n",
       "    .dataframe tbody tr th {\n",
       "        vertical-align: top;\n",
       "    }\n",
       "\n",
       "    .dataframe thead th {\n",
       "        text-align: right;\n",
       "    }\n",
       "</style>\n",
       "<table border=\"1\" class=\"dataframe\">\n",
       "  <thead>\n",
       "    <tr style=\"text-align: right;\">\n",
       "      <th></th>\n",
       "      <th>Local Path</th>\n",
       "      <th>Status</th>\n",
       "      <th>Message</th>\n",
       "      <th>URL</th>\n",
       "    </tr>\n",
       "  </thead>\n",
       "  <tbody>\n",
       "    <tr>\n",
       "      <th>0</th>\n",
       "      <td>/Users/tapritc2/.lksearch/cache/mastDownload/H...</td>\n",
       "      <td>UNKNOWN</td>\n",
       "      <td>File exists in local cache, has not been valid...</td>\n",
       "      <td>None</td>\n",
       "    </tr>\n",
       "  </tbody>\n",
       "</table>\n",
       "</div>"
      ],
      "text/plain": [
       "                                          Local Path   Status  \\\n",
       "0  /Users/tapritc2/.lksearch/cache/mastDownload/H...  UNKNOWN   \n",
       "\n",
       "                                             Message   URL  \n",
       "0  File exists in local cache, has not been valid...  None  "
      ]
     },
     "execution_count": 6,
     "metadata": {},
     "output_type": "execute_result"
    }
   ],
   "source": [
    "conf.CHECK_CACHED_FILE_SIZES = False\n",
    "K218[0].download()"
   ]
  },
  {
   "cell_type": "markdown",
   "id": "e5782847-4de5-40b0-aab5-78d75d0a0c8e",
   "metadata": {},
   "source": [
    "### lksearch Configuration and Configuration File\n",
    "lksearch has a number of configuration parameters, these are contained in the `~lksearch.Conf` [class](https://lightkurve.github.io/lksearch/apidoc.html#lksearch.Conf).  One can modify these parameters for a given python session by updating the values in the Conf class.  To modify these configuration parameters default values, lksearch also has an optional configuration file that is built on-top of `~astropy.config` using `~astropy.config.ConfigNamespace`. This file does not exist by default, but a default version can be created using the `config.create_config_file` helper function.  Modifications to the values in this file will then update the default `~lksearch.Conf` values.  "
   ]
  },
  {
   "cell_type": "code",
   "execution_count": 7,
   "id": "6662b57f-70d9-4a1f-82f4-79ea56c3d7c8",
   "metadata": {},
   "outputs": [],
   "source": [
    "lkconfig.create_config_file(overwrite=True)"
   ]
  },
  {
   "cell_type": "markdown",
   "id": "36de9527-3ba9-492c-8687-6a48d23b9e5f",
   "metadata": {},
   "source": [
    "This file can be found in the below location.  To edit this, please see the astropy.config documentation.  "
   ]
  },
  {
   "cell_type": "code",
   "execution_count": 8,
   "id": "1d114c6a-bf53-4212-94c0-8309a3a12895",
   "metadata": {},
   "outputs": [
    {
     "data": {
      "text/plain": [
       "'/Users/tapritc2/.lksearch/config'"
      ]
     },
     "execution_count": 8,
     "metadata": {},
     "output_type": "execute_result"
    }
   ],
   "source": [
    "lkconfig.get_config_dir()"
   ]
  },
  {
   "cell_type": "code",
   "execution_count": 9,
   "id": "54d1962b-a74c-407f-9d69-3e048b239a7c",
   "metadata": {},
   "outputs": [
    {
     "data": {
      "text/plain": [
       "'/Users/tapritc2/.lksearch/config/lksearch.cfg'"
      ]
     },
     "execution_count": 9,
     "metadata": {},
     "output_type": "execute_result"
    }
   ],
   "source": [
    "lkconfig.get_config_file()"
   ]
  },
  {
   "cell_type": "markdown",
   "id": "72533d4f-c8af-4085-9f9c-50f01955f118",
   "metadata": {},
   "source": [
    "## lksearch Cloud Configuration\n",
    "`lksearch` has three configuration parameters that are particularly relevant to cloud-based science platforms.  These are:\n",
    "    - `CLOUD_ONLY`: Only Download cloud based data. If `False`, will download all data. If `True`, will only download data located on a cloud (Amazon S3) bucket\n",
    "    - `PREFER_CLOUD`: Prefer Cloud-based data product retrieval where available\n",
    "    - `DOWNLOAD_CLOUD`: Download cloud based data. If `False`, download() will return a pointer to the cloud based datainstead of downloading it - intended usage for cloud-based science platforms (e.g. TiKE)\n",
    "\n",
    "`CLOUD_ONLY` governs whether or not non-cloud based data will be possible to be downloaded.  Many science files have both a cloud-based location (typically on Amazon S3) and a MAST archive location. By default this is `False`, and all products will be downloaded regardless of whether the file is available via cloud-hosting or MAST archive hosting. If `CLOUD_ONLY` is `True`, only files available for download on a cloud-based platform will be retrieved.  This configuration parameter is passed through to the `~astroquery.mast` parameter of the same name.  \n",
    "\n",
    "`PREFER_CLOUD` governs the default download behaviour in the event that a data product is available from both a cloud-based location and a MAST-hosted archive location.  If `True` (default), then `lksearch` will preferentially download files from the cloud-host rather than the MAST-hosted Archive. This configuration parameter is passed through to the `~astroquery.mast` parameter of the same name.  \n",
    "\n",
    "`DOWNLOAD_CLOUD` governs whether files that are hosted on the cloud are downloaded locally. If this value is `True` (default), cloud-hosted files are downloaded normally.  If `False`, then files hosted on a cloud based platform are not downloaded, and a URI containing the path to the desired file on the cloud-host is returned instead of the local path to the file.  This path can then be used to read the file remotely (see `~astropy.io.fits` [working with remote and cloud hosted files](https://docs.astropy.org/en/stable/io/fits/#working-with-remote-and-cloud-hosted-files:~:text=with%20large%20files-,Working%20with%20remote%20and%20cloud%2Dhosted%20files,-Unsigned%20integers) for more information). This ability may be most relevant when using `lksearch` on a cloud-based science platform where the remote read is very rapid and short-term local storage comparatively expensive.  \n",
    "\n",
    "Using this `DOWNLOAD_CLOUD` functionality, we can find a cloud-hosted file and read it directly into memory like so:\""
   ]
  },
  {
   "cell_type": "code",
   "execution_count": 10,
   "id": "ff63034a-75de-4bf4-bc74-931e472d9af3",
   "metadata": {},
   "outputs": [
    {
     "data": {
      "text/html": [
       "<div>\n",
       "<style scoped>\n",
       "    .dataframe tbody tr th:only-of-type {\n",
       "        vertical-align: middle;\n",
       "    }\n",
       "\n",
       "    .dataframe tbody tr th {\n",
       "        vertical-align: top;\n",
       "    }\n",
       "\n",
       "    .dataframe thead th {\n",
       "        text-align: right;\n",
       "    }\n",
       "</style>\n",
       "<table border=\"1\" class=\"dataframe\">\n",
       "  <thead>\n",
       "    <tr style=\"text-align: right;\">\n",
       "      <th></th>\n",
       "      <th>Local Path</th>\n",
       "      <th>Status</th>\n",
       "      <th>Message</th>\n",
       "      <th>URL</th>\n",
       "    </tr>\n",
       "  </thead>\n",
       "  <tbody>\n",
       "    <tr>\n",
       "      <th>0</th>\n",
       "      <td>/Users/tapritc2/.lksearch/cache/mastDownload/T...</td>\n",
       "      <td>UNKNOWN</td>\n",
       "      <td>File exists in local cache, has not been valid...</td>\n",
       "      <td>None</td>\n",
       "    </tr>\n",
       "    <tr>\n",
       "      <th>0</th>\n",
       "      <td>0    s3://stpubdata/tess/public/tid/s0014/0000...</td>\n",
       "      <td>COMPLETE</td>\n",
       "      <td>Link to S3 bucket for remote read</td>\n",
       "      <td>None</td>\n",
       "    </tr>\n",
       "  </tbody>\n",
       "</table>\n",
       "</div>"
      ],
      "text/plain": [
       "                                          Local Path    Status  \\\n",
       "0  /Users/tapritc2/.lksearch/cache/mastDownload/T...   UNKNOWN   \n",
       "0  0    s3://stpubdata/tess/public/tid/s0014/0000...  COMPLETE   \n",
       "\n",
       "                                             Message   URL  \n",
       "0  File exists in local cache, has not been valid...  None  \n",
       "0                  Link to S3 bucket for remote read  None  "
      ]
     },
     "execution_count": 10,
     "metadata": {},
     "output_type": "execute_result"
    }
   ],
   "source": [
    "# First, lets update our configuration to not download a cloud-hosted file\n",
    "from lksearch import Conf, TESSSearch\n",
    "\n",
    "Conf.DOWNLOAD_CLOUD = False\n",
    "\n",
    "# Now, lets find some data. We use this target earlier in the tutorial.\n",
    "toi = TESSSearch(\"TOI 1161\")\n",
    "\n",
    "# What happens when we try to download it in our updated configuration?\n",
    "cloud_result = toi.timeseries.mission_products[0].download()\n",
    "cloud_result"
   ]
  },
  {
   "cell_type": "markdown",
   "id": "7bea0002-f5bf-4dcc-bb13-ac93da0d7585",
   "metadata": {},
   "source": [
    "As we can see above, instead of downloading the above file we have instead returned an amazon S3 URI for its cloud hosted location.  If we want to access the file, we can do it using the remote-read capabilities of `~astropy.io.fits`.  \n",
    "\n",
    "(Note: to do this you will need to install `fsspec` and `s3fs`.)"
   ]
  },
  {
   "cell_type": "code",
   "execution_count": 11,
   "id": "6f4f92ad-e754-4e58-abf2-54d6fab0fd08",
   "metadata": {},
   "outputs": [
    {
     "name": "stdout",
     "output_type": "stream",
     "text": [
      "{'file': <astropy.io.fits.file._File <fsspec.implementations.local.LocalFileOpener object at 0x150b62740>>, 'filemode': 'readonly', 'hdrLoc': 0, 'datLoc': 5760, 'datSpan': 0}\n",
      "{'file': <astropy.io.fits.file._File <fsspec.implementations.local.LocalFileOpener object at 0x150b62740>>, 'filemode': 'readonly', 'hdrLoc': 5760, 'datLoc': 20160, 'datSpan': 1935360}\n",
      "{'file': <astropy.io.fits.file._File <fsspec.implementations.local.LocalFileOpener object at 0x150b62740>>, 'filemode': 'readonly', 'hdrLoc': 1955520, 'datLoc': 1961280, 'datSpan': 2880}\n"
     ]
    }
   ],
   "source": [
    "import astropy.io.fits as fits\n",
    "\n",
    "with fits.open(\n",
    "    cloud_result[\"Local Path\"].values[0], use_fsspec=True, fsspec_kwargs={\"anon\": True}\n",
    ") as hdu:\n",
    "    for item in hdu:\n",
    "        print(item.fileinfo())"
   ]
  }
 ],
 "metadata": {
  "kernelspec": {
   "display_name": "Python 3 (ipykernel)",
   "language": "python",
   "name": "python3"
  },
  "language_info": {
   "codemirror_mode": {
    "name": "ipython",
    "version": 3
   },
   "file_extension": ".py",
   "mimetype": "text/x-python",
   "name": "python",
   "nbconvert_exporter": "python",
   "pygments_lexer": "ipython3",
   "version": "3.12.3"
  }
 },
 "nbformat": 4,
 "nbformat_minor": 5
}
